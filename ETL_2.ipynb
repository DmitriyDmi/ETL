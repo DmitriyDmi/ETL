{
 "cells": [
  {
   "cell_type": "markdown",
   "id": "8ad024dd-e9c0-48b3-b62e-5f8ca86f783a",
   "metadata": {},
   "source": [
    "# EDA"
   ]
  },
  {
   "cell_type": "markdown",
   "id": "4da56611-ac76-47aa-bf05-731f9cadf09f",
   "metadata": {},
   "source": [
    "1. Скачайте датасет fifаs2.сsv. Проанализируйте его и определите, какие данные являются неполными. Удалите\r\n",
    "ненужные колонки и недостающие значения."
   ]
  },
  {
   "cell_type": "code",
   "execution_count": 1,
   "id": "b0f7d705-0796-424c-8977-a1af4ba3964a",
   "metadata": {},
   "outputs": [],
   "source": [
    "from pyspark.sql import SparkSession\n",
    "\n",
    "spark = SparkSession.builder\\\n",
    "        .master(\"local[*]\")\\\n",
    "        .appName('PySpark_Tutorial')\\\n",
    "        .getOrCreate()"
   ]
  },
  {
   "cell_type": "code",
   "execution_count": 2,
   "id": "5579f7b8-a864-4709-8ccc-423453cde271",
   "metadata": {},
   "outputs": [],
   "source": [
    "df = spark.read.option('header', True).csv('fifa_s2.csv')"
   ]
  },
  {
   "cell_type": "code",
   "execution_count": 3,
   "id": "dab098fe-2121-428a-8e76-2a66df0f6d49",
   "metadata": {},
   "outputs": [
    {
     "data": {
      "text/html": [
       "<style>pre { white-space: pre !important; }</style>"
      ],
      "text/plain": [
       "<IPython.core.display.HTML object>"
      ]
     },
     "metadata": {},
     "output_type": "display_data"
    }
   ],
   "source": [
    "from IPython.core.display import HTML\n",
    "display(HTML(\"<style>pre { white-space: pre !important; }</style>\"))"
   ]
  },
  {
   "cell_type": "code",
   "execution_count": 4,
   "id": "08a3eb1c-5fe8-4cae-a8e4-4124e45163c0",
   "metadata": {
    "scrolled": true
   },
   "outputs": [
    {
     "name": "stdout",
     "output_type": "stream",
     "text": [
      "+-----+---------+---+-----------+-------+---------+-------------------+-----+----+--------------+------------------------+-----------+--------+------+--------------------+-----------+------+--------------+\n",
      "|   ID|     Name|Age|Nationality|Overall|Potential|               Club|Value|Wage|Preferred Foot|International Reputation|Skill Moves|Position|Joined|Contract Valid Until|     Height|Weight|Release Clause|\n",
      "+-----+---------+---+-----------+-------+---------+-------------------+-----+----+--------------+------------------------+-----------+--------+------+--------------------+-----------+------+--------------+\n",
      "| 1179|G. Buffon| 40|      Italy|     88|       88|Paris Saint-Germain| 4000|  77|         Right|                       4|          1|      GK|  2018|          01/01/2019|6.333333333|   203|          7400|\n",
      "| 5479| Casillas| 37|      Spain|     82|       82|           FC Porto| 1500|  10|          Left|                       4|          1|    NULL|  2015|          01/01/2019|6.083333333|   185|          3000|\n",
      "| 8205|    Braga| 35|   Portugal|     70|       70|            CD Aves|  750|   5|         Right|                       1|          3|     LCM|  2017|          01/01/2019|5.916666667|   165|          1600|\n",
      "| 9014|A. Robben| 34|Netherlands|     84|       84|  FC Bayern München|15500| 110|          Left|                       4|          4|      RM|  2009|          01/01/2019|5.916666667|   176|         25600|\n",
      "|19521|J. Ibehre| 35|    England|     61|       61|   Cambridge United|  120|   2|         Right|                       1|          2|      ST|  2017|          01/01/2019|6.333333333|   203|           210|\n",
      "+-----+---------+---+-----------+-------+---------+-------------------+-----+----+--------------+------------------------+-----------+--------+------+--------------------+-----------+------+--------------+\n",
      "only showing top 5 rows\n",
      "\n"
     ]
    }
   ],
   "source": [
    "df.show(5)"
   ]
  },
  {
   "cell_type": "markdown",
   "id": "fbf2ce0c-4555-4917-b794-5f967ef22ee9",
   "metadata": {},
   "source": [
    "Анализ пропусков"
   ]
  },
  {
   "cell_type": "code",
   "execution_count": 5,
   "id": "db74cfb8-b5b7-4de7-abf9-a5be235d7320",
   "metadata": {},
   "outputs": [
    {
     "name": "stdout",
     "output_type": "stream",
     "text": [
      "+---+----+---+-----------+-------+---------+----+-----+----+--------------+------------------------+-----------+--------+------+--------------------+------+------+--------------+\n",
      "| ID|Name|Age|Nationality|Overall|Potential|Club|Value|Wage|Preferred Foot|International Reputation|Skill Moves|Position|Joined|Contract Valid Until|Height|Weight|Release Clause|\n",
      "+---+----+---+-----------+-------+---------+----+-----+----+--------------+------------------------+-----------+--------+------+--------------------+------+------+--------------+\n",
      "|  0|   0|  0|          7|      0|        0| 241|  257|   0|             0|                      10|          6|      21|     0|                 273|     0|     0|             3|\n",
      "+---+----+---+-----------+-------+---------+----+-----+----+--------------+------------------------+-----------+--------+------+--------------------+------+------+--------------+\n",
      "\n"
     ]
    }
   ],
   "source": [
    "from pyspark.sql.functions import count, isnan, col, when\n",
    "df_Columns = df.columns\n",
    "df.select([count(when(col(c).isNull(), c)).alias(c) for c in df_Columns]).show()"
   ]
  },
  {
   "cell_type": "code",
   "execution_count": 6,
   "id": "c9d16781-acf0-4872-99f4-ea5578cdbb75",
   "metadata": {},
   "outputs": [
    {
     "name": "stdout",
     "output_type": "stream",
     "text": [
      "в колонке ID 0 пропусков, или 0.0 %\n",
      "в колонке Name 0 пропусков, или 0.0 %\n",
      "в колонке Age 0 пропусков, или 0.0 %\n",
      "в колонке Nationality 7 пропусков, или 0.29 %\n",
      "в колонке Overall 0 пропусков, или 0.0 %\n",
      "в колонке Potential 0 пропусков, или 0.0 %\n",
      "в колонке Club 241 пропусков, или 10.05 %\n",
      "в колонке Value 257 пропусков, или 10.71 %\n",
      "в колонке Wage 0 пропусков, или 0.0 %\n",
      "в колонке Preferred Foot 0 пропусков, или 0.0 %\n",
      "в колонке International Reputation 10 пропусков, или 0.42 %\n",
      "в колонке Skill Moves 6 пропусков, или 0.25 %\n",
      "в колонке Position 21 пропусков, или 0.88 %\n",
      "в колонке Joined 0 пропусков, или 0.0 %\n",
      "в колонке Contract Valid Until 273 пропусков, или 11.38 %\n",
      "в колонке Height 0 пропусков, или 0.0 %\n",
      "в колонке Weight 0 пропусков, или 0.0 %\n",
      "в колонке Release Clause 3 пропусков, или 0.13 %\n"
     ]
    }
   ],
   "source": [
    "for cols in df_Columns:\n",
    "    print(f'в колонке {cols} {df.filter(col(cols).isNull()).count()} пропусков, или {round(df.filter(col(cols).isNull()).count()/df.count()*100, 2)} %')"
   ]
  },
  {
   "cell_type": "code",
   "execution_count": 7,
   "id": "d6ec0c17-ad33-4253-8128-1d096497d9e0",
   "metadata": {},
   "outputs": [
    {
     "data": {
      "text/plain": [
       "ID                           0.000000\n",
       "Name                         0.000000\n",
       "Age                          0.000000\n",
       "Nationality                  0.291788\n",
       "Overall                      0.000000\n",
       "Potential                    0.000000\n",
       "Club                        10.045852\n",
       "Value                       10.712797\n",
       "Wage                         0.000000\n",
       "Preferred Foot               0.000000\n",
       "International Reputation     0.416840\n",
       "Skill Moves                  0.250104\n",
       "Position                     0.875365\n",
       "Joined                       0.000000\n",
       "Contract Valid Until        11.379742\n",
       "Height                       0.000000\n",
       "Weight                       0.000000\n",
       "Release Clause               0.125052\n",
       "dtype: float64"
      ]
     },
     "execution_count": 7,
     "metadata": {},
     "output_type": "execute_result"
    }
   ],
   "source": [
    "df.toPandas().isna().mean() * 100"
   ]
  },
  {
   "cell_type": "code",
   "execution_count": 26,
   "id": "d3cb10fe-25d2-4227-a0ed-1b3ef6bd5116",
   "metadata": {},
   "outputs": [
    {
     "name": "stdout",
     "output_type": "stream",
     "text": [
      "root\n",
      " |-- ID: string (nullable = true)\n",
      " |-- Name: string (nullable = true)\n",
      " |-- Age: string (nullable = true)\n",
      " |-- Nationality: string (nullable = true)\n",
      " |-- Overall: string (nullable = true)\n",
      " |-- Potential: string (nullable = true)\n",
      " |-- Club: string (nullable = true)\n",
      " |-- Value: string (nullable = true)\n",
      " |-- Wage: string (nullable = true)\n",
      " |-- Preferred Foot: string (nullable = true)\n",
      " |-- International Reputation: string (nullable = true)\n",
      " |-- Skill Moves: string (nullable = true)\n",
      " |-- Position: string (nullable = true)\n",
      " |-- Joined: string (nullable = true)\n",
      " |-- Contract Valid Until: string (nullable = true)\n",
      " |-- Height: string (nullable = true)\n",
      " |-- Weight: string (nullable = true)\n",
      " |-- Release Clause: string (nullable = true)\n",
      "\n"
     ]
    }
   ],
   "source": [
    "# Смотрим типы, чтобы понимать чем заполнять пропуски, строками или числами\n",
    "df.printSchema()"
   ]
  },
  {
   "cell_type": "code",
   "execution_count": 27,
   "id": "35d7ba82-fe12-471a-aeeb-1b48874e6d00",
   "metadata": {},
   "outputs": [
    {
     "data": {
      "text/plain": [
       "ID                          0.0\n",
       "Name                        0.0\n",
       "Age                         0.0\n",
       "Nationality                 0.0\n",
       "Overall                     0.0\n",
       "Potential                   0.0\n",
       "Club                        0.0\n",
       "Value                       0.0\n",
       "Wage                        0.0\n",
       "Preferred Foot              0.0\n",
       "International Reputation    0.0\n",
       "Skill Moves                 0.0\n",
       "Position                    0.0\n",
       "Joined                      0.0\n",
       "Contract Valid Until        0.0\n",
       "Height                      0.0\n",
       "Weight                      0.0\n",
       "Release Clause              0.0\n",
       "dtype: float64"
      ]
     },
     "execution_count": 27,
     "metadata": {},
     "output_type": "execute_result"
    }
   ],
   "source": [
    "# Всё заполним константными строками. Переводить в числа пока не будем\n",
    "df = df.fillna(value=\"unknown\")\n",
    "df.toPandas().isna().mean() * 100"
   ]
  },
  {
   "cell_type": "code",
   "execution_count": 25,
   "id": "d05831f1-820e-4179-af2f-ff3fc454d534",
   "metadata": {},
   "outputs": [
    {
     "data": {
      "text/plain": [
       "1576"
      ]
     },
     "execution_count": 25,
     "metadata": {},
     "output_type": "execute_result"
    }
   ],
   "source": [
    "# Колонки Overall и Potential похожи, проверим сколько различных значений\n",
    "df.filter(df['Overall'] != df['Potential']).count()"
   ]
  },
  {
   "cell_type": "markdown",
   "id": "b5e1f32d-af6c-4810-a554-4d809dcf4932",
   "metadata": {},
   "source": [
    "Удалять колонки не будем"
   ]
  },
  {
   "cell_type": "markdown",
   "id": "a7dd0840-cb47-4ef1-943a-a36c66fe6f99",
   "metadata": {},
   "source": [
    "# Дубликаты"
   ]
  },
  {
   "cell_type": "markdown",
   "id": "73b7cbba-e1a4-4b3b-8711-fd77450f7925",
   "metadata": {},
   "source": [
    "2. Найдите в датафрейме полные дубликаты и удалите их. Значения могут быть одинаковыми, но написаны по-разному. Например, может отличаться размер регистра (заглавные и строчные буквы). Особое внимание уделить колонке с названиями команд."
   ]
  },
  {
   "cell_type": "code",
   "execution_count": 14,
   "id": "b8bc4e6f-405f-402e-9bc2-4da9143a48eb",
   "metadata": {},
   "outputs": [
    {
     "name": "stdout",
     "output_type": "stream",
     "text": [
      "+-----+-----------------+---+-------------------+-------+---------+-------------------+-----+----+--------------+------------------------+-----------+--------+------+--------------------+-----------+------+--------------+\n",
      "|   ID|             Name|Age|        Nationality|Overall|Potential|               Club|Value|Wage|Preferred Foot|International Reputation|Skill Moves|Position|Joined|Contract Valid Until|     Height|Weight|Release Clause|\n",
      "+-----+-----------------+---+-------------------+-------+---------+-------------------+-----+----+--------------+------------------------+-----------+--------+------+--------------------+-----------+------+--------------+\n",
      "| 1179|        g. buffon| 40|              italy|     88|       88|paris saint-germain| 4000|  77|         right|                       4|          1|      gk|  2018|          01/01/2019|6.333333333|   203|          7400|\n",
      "| 5479|         casillas| 37|              spain|     82|       82|           fc porto| 1500|  10|          left|                       4|          1|    NULL|  2015|          01/01/2019|6.083333333|   185|          3000|\n",
      "| 8205|            braga| 35|           portugal|     70|       70|            cd aves|  750|   5|         right|                       1|          3|     lcm|  2017|          01/01/2019|5.916666667|   165|          1600|\n",
      "| 9014|        a. robben| 34|        netherlands|     84|       84|  fc bayern münchen|15500| 110|          left|                       4|          4|      rm|  2009|          01/01/2019|5.916666667|   176|         25600|\n",
      "|19521|        j. ibehre| 35|            england|     61|       61|   cambridge united|  120|   2|         right|                       1|          2|      st|  2017|          01/01/2019|6.333333333|   203|           210|\n",
      "|20209|    ricardo costa| 37|           portugal|     74|       74|         cd tondela|  750|   4|         right|                       2|          2|     lcb|  2017|          01/01/2019|          6|   181|          1600|\n",
      "|20801|cristiano ronaldo| 33|           portugal|     94|       94|           juventus|77000| 405|         right|                       5|          5|      st|  2018|          01/01/2022|6.166666667|   183|        127100|\n",
      "|24630|       pepe reina| 35|              spain|     83|       83|              milan| 6000|  56|         right|                       3|          1|      gk|  2018|                NULL|6.166666667|   203|         10200|\n",
      "|27532|      d. de vries| 37|        netherlands|     66|       66|             celtic|   40|   7|         right|                       1|          1|      gk|  2016|          01/01/2019|       6.25|   212|            72|\n",
      "|45083|    s. von bergen| 35|        switzerland|     73|       73|     bsc young boys|  950|  12|         right|                       2|          2|     lcb|  2013|          01/01/2022|          6|   174|          1400|\n",
      "|46175|     m. rosenberg| 35|             sweden|     73|       73|           malmö ff| 1800|   6|         right|                       1|          3|      rs|  2014|          01/01/2020|          6|   179|          2400|\n",
      "|47201|         s. proto| 35|            belgium|     76|       76|              lazio| 1800|  20|         right|                       2|          1|      gk|  2018|          01/01/2021|          6|   163|          3100|\n",
      "|48940|          p. čech| 36|     czech republic|     82|       82|            arsenal| 3000|  60|          left|                       4|          1|    NULL|  2015|          01/01/2019|6.416666667|   198|          5700|\n",
      "|52498|       m. lehmann| 35|            germany|     72|       72|         1. fc köln|  725|  10|         right|                       2|          2|     cdm|  2012|          01/01/2019|5.833333333|   165|          1100|\n",
      "|52679|        j. murphy| 36|republic of ireland|     62|       62|               bury|   40|   1|          left|                       1|          1|      gk|  2017|          01/01/2019|6.166666667|   194|            70|\n",
      "|53110|        c. gordon| 35|           scotland|     74|       74|             celtic| 1300|  20|          left|                       2|          1|      gk|  2014|          01/01/2020|6.333333333|   183|          2400|\n",
      "|53302|      d. de rossi| 34|              italy|     83|       83|               roma| 8000|  80|         right|                       3|          2|     rdm|  2002|                NULL|          6|   183|         13600|\n",
      "|53363|        a. collin| 33|            england|     62|       62|    carlisle united|  150|   2|         right|                       1|          1|      gk|  2018|          01/01/2019|       6.25|   172|           263|\n",
      "|53739|         l. grant| 35|            england|     74|       74|  manchester united| 1300|  39|         right|                       1|          1|      gk|  2018|          01/01/2020|6.333333333|   183|          2500|\n",
      "|53748|    k. pilkington| 44|            england|     48|       48|   cambridge united| NULL|   1|         right|                       1|          1|      gk|  2018|          01/01/2023|6.166666667|   190|   4585.060806|\n",
      "+-----+-----------------+---+-------------------+-------+---------+-------------------+-----+----+--------------+------------------------+-----------+--------+------+--------------------+-----------+------+--------------+\n",
      "only showing top 20 rows\n",
      "\n"
     ]
    }
   ],
   "source": [
    "from pyspark.sql.functions import lower\n",
    "\n",
    "for col in df.columns:\n",
    "    df = df.withColumn(col, lower(col))\n",
    "df.show()"
   ]
  },
  {
   "cell_type": "code",
   "execution_count": 22,
   "id": "daf4d3d1-193a-45bf-9d94-4cc32fabfbea",
   "metadata": {},
   "outputs": [
    {
     "data": {
      "text/plain": [
       "2"
      ]
     },
     "execution_count": 22,
     "metadata": {},
     "output_type": "execute_result"
    }
   ],
   "source": [
    "# Количество дублей\n",
    "df.count() - df.distinct().count()"
   ]
  },
  {
   "cell_type": "code",
   "execution_count": 17,
   "id": "6922a724-f7ba-489e-8dc0-a367bd5c5b81",
   "metadata": {},
   "outputs": [
    {
     "name": "stdout",
     "output_type": "stream",
     "text": [
      "+------+----------+---+-----------+-------+---------+------------+-----+----+--------------+------------------------+-----------+--------+------+--------------------+-----------+------+--------------+-----+\n",
      "|    ID|      Name|Age|Nationality|Overall|Potential|        Club|Value|Wage|Preferred Foot|International Reputation|Skill Moves|Position|Joined|Contract Valid Until|     Height|Weight|Release Clause|count|\n",
      "+------+----------+---+-----------+-------+---------+------------+-----+----+--------------+------------------------+-----------+--------+------+--------------------+-----------+------+--------------+-----+\n",
      "|181872|  a. vidal| 31|      chile|     85|       85|fc barcelona|26000| 205|         right|                       4|          3|     cam|  2018|          01/01/2021|5.916666667|   165|         53300|    2|\n",
      "|168651|i. rakitić| 30|    croatia|     87|       87|fc barcelona|46500| 260|         right|                       4|          3|     rcm|  2014|          01/01/2021|          6|   172|         95300|    2|\n",
      "+------+----------+---+-----------+-------+---------+------------+-----+----+--------------+------------------------+-----------+--------+------+--------------------+-----------+------+--------------+-----+\n",
      "\n"
     ]
    }
   ],
   "source": [
    "df \\\n",
    "    .groupby(df.columns) \\\n",
    "    .count() \\\n",
    "    .where('count > 1') \\\n",
    "    .sort('count', ascending=False) \\\n",
    "    .show()"
   ]
  },
  {
   "cell_type": "code",
   "execution_count": 20,
   "id": "31053176-9725-4beb-8168-5c61e5586fdf",
   "metadata": {},
   "outputs": [
    {
     "name": "stdout",
     "output_type": "stream",
     "text": [
      "+------+----------+---+-----------+-------+---------+------------+-----+----+--------------+------------------------+-----------+--------+------+--------------------+-----------+------+--------------+\n",
      "|    ID|      Name|Age|Nationality|Overall|Potential|        Club|Value|Wage|Preferred Foot|International Reputation|Skill Moves|Position|Joined|Contract Valid Until|     Height|Weight|Release Clause|\n",
      "+------+----------+---+-----------+-------+---------+------------+-----+----+--------------+------------------------+-----------+--------+------+--------------------+-----------+------+--------------+\n",
      "|168651|i. rakitić| 30|    croatia|     87|       87|fc barcelona|46500| 260|         right|                       4|          3|     rcm|  2014|          01/01/2021|          6|   172|         95300|\n",
      "|168651|i. rakitić| 30|    croatia|     87|       87|fc barcelona|46500| 260|         right|                       4|          3|     rcm|  2014|          01/01/2021|          6|   172|         95300|\n",
      "|181872|  a. vidal| 31|      chile|     85|       85|fc barcelona|26000| 205|         right|                       4|          3|     cam|  2018|          01/01/2021|5.916666667|   165|         53300|\n",
      "|181872|  a. vidal| 31|      chile|     85|       85|fc barcelona|26000| 205|         right|                       4|          3|     cam|  2018|          01/01/2021|5.916666667|   165|         53300|\n",
      "+------+----------+---+-----------+-------+---------+------------+-----+----+--------------+------------------------+-----------+--------+------+--------------------+-----------+------+--------------+\n",
      "\n"
     ]
    }
   ],
   "source": [
    "df.filter((df['id'] == 181872) | (df['id'] == 168651)).show()"
   ]
  },
  {
   "cell_type": "code",
   "execution_count": 23,
   "id": "77044b5c-c6eb-40cd-bb5f-1e69f04298b7",
   "metadata": {},
   "outputs": [
    {
     "data": {
      "text/plain": [
       "2397"
      ]
     },
     "execution_count": 23,
     "metadata": {},
     "output_type": "execute_result"
    }
   ],
   "source": [
    "df = df.dropDuplicates()\n",
    "df.count()"
   ]
  },
  {
   "cell_type": "markdown",
   "id": "33d73e8b-8ab7-44a2-9cfa-fa7aa15f7666",
   "metadata": {},
   "source": [
    "# Функция"
   ]
  },
  {
   "cell_type": "markdown",
   "id": "33e739b0-6eee-4ced-b787-04a01edb815d",
   "metadata": {},
   "source": [
    "3. Напишите функцию, которая добавит колонку с разбиением возраста по группам: до 20, от 20 до 30, от 30 до\r\n",
    "36 и старше 36. Посчитайте количество футболистов в каждой категории."
   ]
  },
  {
   "cell_type": "code",
   "execution_count": 31,
   "id": "5732e08f-0b00-41e6-b597-477923a10c9e",
   "metadata": {},
   "outputs": [
    {
     "name": "stdout",
     "output_type": "stream",
     "text": [
      "root\n",
      " |-- ID: string (nullable = false)\n",
      " |-- Name: string (nullable = false)\n",
      " |-- Age: integer (nullable = true)\n",
      " |-- Nationality: string (nullable = false)\n",
      " |-- Overall: string (nullable = false)\n",
      " |-- Potential: string (nullable = false)\n",
      " |-- Club: string (nullable = false)\n",
      " |-- Value: string (nullable = false)\n",
      " |-- Wage: string (nullable = false)\n",
      " |-- Preferred Foot: string (nullable = false)\n",
      " |-- International Reputation: string (nullable = false)\n",
      " |-- Skill Moves: string (nullable = false)\n",
      " |-- Position: string (nullable = false)\n",
      " |-- Joined: string (nullable = false)\n",
      " |-- Contract Valid Until: string (nullable = false)\n",
      " |-- Height: string (nullable = false)\n",
      " |-- Weight: string (nullable = false)\n",
      " |-- Release Clause: string (nullable = false)\n",
      "\n"
     ]
    }
   ],
   "source": [
    "from pyspark.sql.types import IntegerType\n",
    "\n",
    "df = df.withColumn('Age', df['Age'].cast(IntegerType()))\n",
    "df.printSchema()"
   ]
  },
  {
   "cell_type": "code",
   "execution_count": 46,
   "id": "2be20616-b751-4b29-b0c0-27a87bb83532",
   "metadata": {},
   "outputs": [],
   "source": [
    "from pyspark.sql.functions import lit\n",
    "\n",
    "def age_category(df):\n",
    "    df_2 = df.filter(df.Age < 20).withColumn('Age_category', lit('< 20'))\n",
    "    df_2 = df_2.union(df.filter((df.Age >= 20) & (df.Age < 30)).withColumn('Age_category', lit('20-30')))\n",
    "    df_2 = df_2.union(df.filter((df.Age >= 30) & (df.Age < 36)).withColumn('Age_category', lit('30-36')))\n",
    "    df_2 = df_2.union(df.filter(df.Age >= 36).withColumn('Age_category', lit('> 36')))\n",
    "    return df_2\n",
    "        "
   ]
  },
  {
   "cell_type": "code",
   "execution_count": 49,
   "id": "ac8d42ce-136a-4a2c-8d5c-31ccd87f8dd4",
   "metadata": {},
   "outputs": [
    {
     "name": "stdout",
     "output_type": "stream",
     "text": [
      "+------+-------------+---+-----------+-------+---------+--------------------+-----+----+--------------+------------------------+-----------+--------+------+--------------------+-----------+------+--------------+------------+\n",
      "|    ID|         Name|Age|Nationality|Overall|Potential|                Club|Value|Wage|Preferred Foot|International Reputation|Skill Moves|Position|Joined|Contract Valid Until|     Height|Weight|Release Clause|Age_category|\n",
      "+------+-------------+---+-----------+-------+---------+--------------------+-----+----+--------------+------------------------+-----------+--------+------+--------------------+-----------+------+--------------+------------+\n",
      "|203502|      b. reid| 25|    england|     73|       78|        cardiff city| 5500|  37|         right|                       1|          3|      st|  2018|          01/01/2022|5.583333333|   150|         11400|       20-30|\n",
      "|206159|   s. sabelli| 25|      italy|     68|       71|             brescia|  925|   2|         right|                       1|          2|      rb|  2018|          01/01/2021|5.916666667|   163|          1500|       20-30|\n",
      "|242700|    yan zhiyu| 25|   china pr|     55|       60|  changchun yatai fc|  100|   2|          left|                       1|          2|      lb|  2018|          01/01/2020|5.583333333|   143|           223|       20-30|\n",
      "|219587|a. martinelli| 25|switzerland|     67|       70|             brescia|  800|   2|          left|                       1|          3|     cdm|  2017|          01/01/2019|       5.75|   152|          1300|       20-30|\n",
      "|235549|a. ramalingom| 25|     france|     59|       64|          as béziers|  210|   1|         right|                       1|          2|      st|  2018|          01/01/2021|5.833333333|   154|           383|       20-30|\n",
      "|201400|      rafinha| 25|     brazil|     82|       87|        fc barcelona|29500| 165|          left|                       2|          4|     cam|  2013|          01/01/2020|       5.75|   157|         62700|       20-30|\n",
      "|202884|l. spinazzola| 25|      italy|     77|       80|            juventus|11000|  80|         right|                       2|          3|      lm|  2010|          01/01/2022|6.083333333|   165|         19000|       20-30|\n",
      "|201155|  r. morrison| 25|    england|     76|       79|               lazio| 9500|  40|         right|                       1|          3|     cam|  2015|          01/01/2019|       5.75|   157|         16900|       20-30|\n",
      "|204420| j. sternberg| 25|    germany|     65|       67|1. fc kaiserslautern|  550|   2|          left|                       1|          3|      lb|  2018|          01/01/2021|          6|   170|           839|       20-30|\n",
      "|208589|     k. pusch| 25|    germany|     67|       70|1. fc heidenheim ...|  950|   5|          left|                       1|          2|     cam|  2017|          01/01/2020|5.916666667|   168|          1500|       20-30|\n",
      "+------+-------------+---+-----------+-------+---------+--------------------+-----+----+--------------+------------------------+-----------+--------+------+--------------------+-----------+------+--------------+------------+\n",
      "only showing top 10 rows\n",
      "\n"
     ]
    }
   ],
   "source": [
    "df_2 = age_category(df)\n",
    "df_2.filter('Age == 25').show(10)"
   ]
  },
  {
   "cell_type": "code",
   "execution_count": 50,
   "id": "65c12298-6d86-45e1-a424-4c78ab023f97",
   "metadata": {},
   "outputs": [
    {
     "name": "stdout",
     "output_type": "stream",
     "text": [
      "+------+---------------+---+-----------+-------+---------+-------------------+-----+----+--------------+------------------------+-----------+--------+------+--------------------+-----------+------+--------------+------------+\n",
      "|    ID|           Name|Age|Nationality|Overall|Potential|               Club|Value|Wage|Preferred Foot|International Reputation|Skill Moves|Position|Joined|Contract Valid Until|     Height|Weight|Release Clause|Age_category|\n",
      "+------+---------------+---+-----------+-------+---------+-------------------+-----+----+--------------+------------------------+-----------+--------+------+--------------------+-----------+------+--------------+------------+\n",
      "|164468|      g. cahill| 32|    england|     80|       80|            chelsea| 8500|  99|         right|                       3|          2|      cb|  2012|          01/01/2019|6.333333333|   194|         15700|       30-36|\n",
      "|193369|          galán| 32|      spain|     69|       69|cf rayo majadahonda|  575|   4|         right|                       1|          2|      rb|  2018|          01/01/2019|5.916666667|   174|           891|       30-36|\n",
      "|168542|    david silva| 32|      spain|     90|       90|    manchester city|60000| 285|          left|                       4|          4|     lcm|  2010|          01/01/2020|5.666666667|   148|        111000|       30-36|\n",
      "|172835|   m. andreolli| 32|      italy|     74|       74|           cagliari| 3200|  25|         right|                       2|          2|      cb|  2017|          01/01/2019|6.166666667|   176|          5500|       30-36|\n",
      "|171189|aythami artiles| 32|      spain|     72|       72|         córdoba cf| 1800|   7|         right|                       1|          2|     lcb|  2018|          01/01/2020|          6|   172|          2800|       30-36|\n",
      "|180714|      guilherme| 32|     russia|     78|       78|   lokomotiv moscow| 6000|   1|         right|                       2|          1|      gk|  2007|          01/01/2019|6.416666667|   209|         12600|       30-36|\n",
      "|178171| sergio sánchez| 32|      spain|     72|       72|           cádiz cf| 1800|   7|         right|                       1|          2|     rcb|  2018|          01/01/2020|6.083333333|   172|          2900|       30-36|\n",
      "|193421|      javi lara| 32|      spain|     70|       70|         córdoba cf| 1300|   6|         right|                       1|          3|     rcm|  2017|          01/01/2019|5.833333333|   161|          2100|       30-36|\n",
      "|170569|david rodríguez| 32|      spain|     69|       69|         ca osasuna|  850|   6|         right|                       1|          3|      st|  2017|          01/01/2020|5.833333333|   165|          1400|       30-36|\n",
      "|193267|    f. pisacane| 32|      italy|     72|       72|           cagliari| 1800|  20|         right|                       1|          2|      cb|  2015|          01/01/2019|5.833333333|   170|          3000|       30-36|\n",
      "+------+---------------+---+-----------+-------+---------+-------------------+-----+----+--------------+------------------------+-----------+--------+------+--------------------+-----------+------+--------------+------------+\n",
      "only showing top 10 rows\n",
      "\n"
     ]
    }
   ],
   "source": [
    "df_2.filter('Age == 32').show(10)"
   ]
  },
  {
   "cell_type": "code",
   "execution_count": 51,
   "id": "28a6e91e-b10d-4c29-b019-977d63b5ed8f",
   "metadata": {},
   "outputs": [
    {
     "name": "stdout",
     "output_type": "stream",
     "text": [
      "+------+-------------+---+-----------+-------+---------+--------------------+-------+----+--------------+------------------------+-----------+--------+------+--------------------+-----------+------+--------------+------------+\n",
      "|    ID|         Name|Age|Nationality|Overall|Potential|                Club|  Value|Wage|Preferred Foot|International Reputation|Skill Moves|Position|Joined|Contract Valid Until|     Height|Weight|Release Clause|Age_category|\n",
      "+------+-------------+---+-----------+-------+---------+--------------------+-------+----+--------------+------------------------+-----------+--------+------+--------------------+-----------+------+--------------+------------+\n",
      "|145047| bruno saltor| 37|      spain|     74|       74|brighton & hove a...|    650|  25|         right|                       1|          3|      rb|  2012|          01/01/2019|5.916666667|   168|          1200|        > 36|\n",
      "| 54008|   s. bywater| 37|    england|     63|       63|       burton albion|     20|   1|         right|                       1|          1|      gk|  2016|          01/01/2019|6.083333333|   179|            35|        > 36|\n",
      "|137186|  a. barzagli| 37|      italy|     84|       84|            juventus|   4200|  95|         right|                       3|          2|      cb|  2011|          01/01/2019|6.166666667|   192|          6900|        > 36|\n",
      "| 27532|  d. de vries| 37|netherlands|     66|       66|              celtic|     40|   7|         right|                       1|          1|      gk|  2016|          01/01/2019|       6.25|   212|            72|        > 36|\n",
      "| 20209|ricardo costa| 37|   portugal|     74|       74|          cd tondela|    750|   4|         right|                       2|          2|     lcb|  2017|          01/01/2019|          6|   181|          1600|        > 36|\n",
      "|153160|    r. raldes| 37|    bolivia|     70|       70|             unknown|unknown|   0|         right|                       1|          2|      lb|  2016|             unknown|5.916666667|   172|   4585.060806|        > 36|\n",
      "|  5479|     casillas| 37|      spain|     82|       82|            fc porto|   1500|  10|          left|                       4|          1| unknown|  2015|          01/01/2019|6.083333333|   185|          3000|        > 36|\n",
      "+------+-------------+---+-----------+-------+---------+--------------------+-------+----+--------------+------------------------+-----------+--------+------+--------------------+-----------+------+--------------+------------+\n",
      "\n"
     ]
    }
   ],
   "source": [
    "df_2.filter('Age == 37').show(10)"
   ]
  },
  {
   "cell_type": "code",
   "execution_count": 54,
   "id": "482f0e73-68bd-41f7-85a9-d3b9f8c235c2",
   "metadata": {},
   "outputs": [
    {
     "name": "stdout",
     "output_type": "stream",
     "text": [
      "+------------+-----+\n",
      "|Age_category|count|\n",
      "+------------+-----+\n",
      "|        < 20|  270|\n",
      "|       20-30| 1646|\n",
      "|       30-36|  458|\n",
      "|        > 36|   23|\n",
      "+------------+-----+\n",
      "\n"
     ]
    }
   ],
   "source": [
    "df_2.groupBy('Age_category').count().show()"
   ]
  },
  {
   "cell_type": "code",
   "execution_count": null,
   "id": "e478dae3-dd39-41cb-9ab9-c177b143841a",
   "metadata": {},
   "outputs": [],
   "source": []
  }
 ],
 "metadata": {
  "kernelspec": {
   "display_name": "Python 3 (ipykernel)",
   "language": "python",
   "name": "python3"
  },
  "language_info": {
   "codemirror_mode": {
    "name": "ipython",
    "version": 3
   },
   "file_extension": ".py",
   "mimetype": "text/x-python",
   "name": "python",
   "nbconvert_exporter": "python",
   "pygments_lexer": "ipython3",
   "version": "3.11.7"
  }
 },
 "nbformat": 4,
 "nbformat_minor": 5
}
